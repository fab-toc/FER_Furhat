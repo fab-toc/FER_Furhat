{
 "cells": [
  {
   "cell_type": "markdown",
   "id": "a3996346",
   "metadata": {},
   "source": [
    "# FER-2013 Dataset\n"
   ]
  },
  {
   "cell_type": "markdown",
   "id": "86baa0ac",
   "metadata": {},
   "source": [
    "### **FER-2013 avec ResNet18**"
   ]
  },
  {
   "cell_type": "markdown",
   "id": "cc926309",
   "metadata": {},
   "source": [
    "**📚 2. Importation des bibliothèques**"
   ]
  },
  {
   "cell_type": "code",
   "execution_count": 2,
   "id": "6d817baf",
   "metadata": {},
   "outputs": [
    {
     "name": "stdout",
     "output_type": "stream",
     "text": [
      "CUDA disponible : False\n",
      "Nom du GPU : Aucun\n"
     ]
    }
   ],
   "source": [
    "import torch\n",
    "\n",
    "print(\"CUDA disponible :\", torch.cuda.is_available())\n",
    "print(\"Nom du GPU :\", torch.cuda.get_device_name(0) if torch.cuda.is_available() else \"Aucun\")\n"
   ]
  },
  {
   "cell_type": "code",
   "execution_count": 1,
   "id": "419c3e0e",
   "metadata": {},
   "outputs": [
    {
     "name": "stdout",
     "output_type": "stream",
     "text": [
      "None\n",
      "False\n"
     ]
    }
   ],
   "source": [
    "import torch\n",
    "print(torch.version.cuda)\n",
    "print(torch.cuda.is_available())\n"
   ]
  },
  {
   "cell_type": "code",
   "execution_count": 1,
   "id": "36747f95",
   "metadata": {},
   "outputs": [],
   "source": [
    "import torch\n",
    "import torch.nn as nn\n",
    "import torch.optim as optim\n",
    "from torchvision import models, transforms\n",
    "from torch.utils.data import Dataset, DataLoader\n",
    "import pandas as pd\n",
    "from PIL import Image\n",
    "import numpy as np\n",
    "import matplotlib.pyplot as plt\n",
    "from torchvision.datasets import ImageFolder\n",
    "from torchvision import transforms\n",
    "from torch.utils.data import DataLoader"
   ]
  },
  {
   "cell_type": "code",
   "execution_count": 2,
   "id": "fb4ae587",
   "metadata": {},
   "outputs": [
    {
     "name": "stdout",
     "output_type": "stream",
     "text": [
      "False\n",
      "🖥️  Utilisation du périphérique : cpu\n"
     ]
    }
   ],
   "source": [
    "device = torch.device(\"cuda\" if torch.cuda.is_available() else \"cpu\")\n",
    "print(torch.cuda.is_available())\n",
    "print(\"🖥️  Utilisation du périphérique :\", device)"
   ]
  },
  {
   "cell_type": "markdown",
   "id": "eb8c2a4f",
   "metadata": {},
   "source": [
    "**📥 3. Définition du dataset FER-2013**"
   ]
  },
  {
   "cell_type": "code",
   "execution_count": null,
   "id": "4f873ca4",
   "metadata": {},
   "outputs": [],
   "source": [
    "class FER2013Dataset(Dataset):\n",
    "    def __init__(self, csv_path, usage=\"Training\", transform=None):\n",
    "        self.data = pd.read_csv(csv_path)\n",
    "        self.data = self.data[self.data[\"Usage\"] == usage]\n",
    "        self.transform = transform\n",
    "\n",
    "    def __len__(self):\n",
    "        return len(self.data)\n",
    "\n",
    "    def __getitem__(self, idx):\n",
    "        emotion = int(self.data.iloc[idx][\"emotion\"])\n",
    "        img = np.fromstring(self.data.iloc[idx][\"pixels\"], sep=\" \", dtype=np.uint8).reshape(48, 48)\n",
    "        img = Image.fromarray(img).convert(\"L\")\n",
    "        if self.transform:\n",
    "            img = self.transform(img)\n",
    "        return img, emotion"
   ]
  },
  {
   "cell_type": "markdown",
   "id": "3be88d90",
   "metadata": {},
   "source": [
    "**🧰 4. Prétraitement des images**"
   ]
  },
  {
   "cell_type": "code",
   "execution_count": null,
   "id": "ca3915de",
   "metadata": {},
   "outputs": [],
   "source": [
    "transform = transforms.Compose([\n",
    "    transforms.Resize((224, 224)),\n",
    "    transforms.Grayscale(num_output_channels=3),  # Adapter à ResNet\n",
    "    transforms.ToTensor(),\n",
    "    transforms.Normalize(mean=[0.5], std=[0.5])\n",
    "])"
   ]
  },
  {
   "cell_type": "markdown",
   "id": "b99e5f4e",
   "metadata": {},
   "source": [
    "**📂 5. Chargement des données**"
   ]
  },
  {
   "cell_type": "code",
   "execution_count": null,
   "id": "b011698b",
   "metadata": {},
   "outputs": [],
   "source": [
    "train_dataset = ImageFolder(root='../data/FER-2013/train', transform=transform)\n",
    "val_dataset = ImageFolder(root='../data/FER-2013/test', transform=transform)\n",
    "\n",
    "train_loader = DataLoader(train_dataset, batch_size=64, shuffle=True)\n",
    "val_loader = DataLoader(val_dataset, batch_size=64, shuffle=False)"
   ]
  },
  {
   "cell_type": "markdown",
   "id": "850cf52d",
   "metadata": {},
   "source": [
    "**🧠 6. Création du modèle ResNet18**"
   ]
  },
  {
   "cell_type": "code",
   "execution_count": null,
   "id": "85048551",
   "metadata": {},
   "outputs": [],
   "source": [
    "model = models.resnet18(pretrained=True)\n",
    "model.fc = nn.Linear(model.fc.in_features, 7)  # 7 classes d’émotions\n",
    "\n",
    "device = torch.device(\"cuda\" if torch.cuda.is_available() else \"cpu\")\n",
    "model = model.to(device)"
   ]
  },
  {
   "cell_type": "markdown",
   "id": "7c4722a0",
   "metadata": {},
   "source": [
    "**⚙️ 7. Fonction d'entraînement et d'évaluation**"
   ]
  },
  {
   "cell_type": "code",
   "execution_count": null,
   "id": "c6813aeb",
   "metadata": {},
   "outputs": [],
   "source": [
    "criterion = nn.CrossEntropyLoss()\n",
    "optimizer = optim.Adam(model.parameters(), lr=0.0001)\n",
    "\n",
    "def train(model, loader, optimizer, criterion, device):\n",
    "    model.train()\n",
    "    running_loss = 0.0\n",
    "    correct = 0\n",
    "    for images, labels in loader:\n",
    "        images, labels = images.to(device), labels.to(device)\n",
    "        optimizer.zero_grad()\n",
    "        outputs = model(images)\n",
    "        loss = criterion(outputs, labels)\n",
    "        loss.backward()\n",
    "        optimizer.step()\n",
    "        running_loss += loss.item()\n",
    "        _, preds = torch.max(outputs, 1)\n",
    "        correct += (preds == labels).sum().item()\n",
    "    acc = correct / len(loader.dataset)\n",
    "    return running_loss / len(loader), acc\n",
    "\n",
    "def evaluate(model, loader, criterion, device):\n",
    "    model.eval()\n",
    "    val_loss = 0.0\n",
    "    correct = 0\n",
    "    with torch.no_grad():\n",
    "        for images, labels in loader:\n",
    "            images, labels = images.to(device), labels.to(device)\n",
    "            outputs = model(images)\n",
    "            loss = criterion(outputs, labels)\n",
    "            val_loss += loss.item()\n",
    "            _, preds = torch.max(outputs, 1)\n",
    "            correct += (preds == labels).sum().item()\n",
    "    acc = correct / len(loader.dataset)\n",
    "    return val_loss / len(loader), acc"
   ]
  },
  {
   "cell_type": "markdown",
   "id": "65b4fa82",
   "metadata": {},
   "source": [
    "**🚀 8. Boucle d'entraînement**"
   ]
  },
  {
   "cell_type": "code",
   "execution_count": null,
   "id": "8e984331",
   "metadata": {},
   "outputs": [],
   "source": [
    "num_epochs = 1\n",
    "train_acc_list, val_acc_list = [], []\n",
    "\n",
    "for epoch in range(num_epochs):\n",
    "    train_loss, train_acc = train(model, train_loader, optimizer, criterion, device)\n",
    "    val_loss, val_acc = evaluate(model, val_loader, criterion, device)\n",
    "    train_acc_list.append(train_acc)\n",
    "    val_acc_list.append(val_acc)\n",
    "    print(f\"Époque {epoch+1} | Train Acc: {train_acc:.4f} | Val Acc: {val_acc:.4f}\")\n"
   ]
  },
  {
   "cell_type": "markdown",
   "id": "2587d3b6",
   "metadata": {},
   "source": [
    "**📈 9. Courbe de performance**"
   ]
  },
  {
   "cell_type": "code",
   "execution_count": null,
   "id": "de9069cc",
   "metadata": {},
   "outputs": [],
   "source": [
    "plt.plot(train_acc_list, label=\"Train Accuracy\")\n",
    "plt.plot(val_acc_list, label=\"Validation Accuracy\")\n",
    "plt.xlabel(\"Époque\")\n",
    "plt.ylabel(\"Précision\")\n",
    "plt.title(\"Performance du modèle\")\n",
    "plt.legend()\n",
    "plt.show()"
   ]
  }
 ],
 "metadata": {
  "kernelspec": {
   "display_name": ".venv",
   "language": "python",
   "name": "python3"
  },
  "language_info": {
   "codemirror_mode": {
    "name": "ipython",
    "version": 3
   },
   "file_extension": ".py",
   "mimetype": "text/x-python",
   "name": "python",
   "nbconvert_exporter": "python",
   "pygments_lexer": "ipython3",
   "version": "3.13.3"
  }
 },
 "nbformat": 4,
 "nbformat_minor": 5
}
