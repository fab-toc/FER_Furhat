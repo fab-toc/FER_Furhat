{
 "cells": [
  {
   "cell_type": "markdown",
   "id": "a3996346",
   "metadata": {},
   "source": [
    "# Facial Expression Recognition\n",
    "\n",
    "In this notebook, we will explore the facial expression recognition challenge.\n"
   ]
  },
  {
   "cell_type": "code",
   "execution_count": null,
   "id": "2e5d7807",
   "metadata": {},
   "outputs": [],
   "source": [
    "from classifier import train_classifier, eval_classifier\n",
    "\n",
    "import torch\n",
    "import torch.nn as nn\n",
    "import torchvision\n",
    "from torch.utils.data import DataLoader\n",
    "import matplotlib.pyplot as plt\n",
    "import copy\n",
    "import kagglehub\n",
    "\n",
    "device = torch.device(\"cuda\" if torch.cuda.is_available() else \"cpu\")"
   ]
  },
  {
   "cell_type": "markdown",
   "id": "d310f1ea",
   "metadata": {},
   "source": [
    "## Dataset\n"
   ]
  },
  {
   "cell_type": "code",
   "execution_count": null,
   "id": "63e73acb",
   "metadata": {},
   "outputs": [],
   "source": [
    "# Download FER-2013 latest version\n",
    "data_dir = kagglehub.dataset_download(\"msambare/fer2013\")\n",
    "\n",
    "data_transforms = torchvision.transforms.Compose(\n",
    "    [\n",
    "        torchvision.transforms.Grayscale(\n",
    "            num_output_channels=3\n",
    "        ),  # si modèles pré-entraînés ImageNet\n",
    "        torchvision.transforms.Resize((224, 224)),\n",
    "        torchvision.transforms.ToTensor(),\n",
    "    ]\n",
    ")\n",
    "\n",
    "# Load the FER-2013 dataset\n",
    "train_data = torchvision.datasets.ImageFolder(\n",
    "    data_dir + \"/train\", transform=data_transforms\n",
    ")\n",
    "\n",
    "test_data = torchvision.datasets.ImageFolder(\n",
    "    data_dir + \"/test\", transform=data_transforms\n",
    ")\n",
    "\n",
    "print(\"Classes of the dataset:\", train_data.classes)\n",
    "print(\"Number of training samples:\", len(train_data))\n",
    "print(\"Number of test samples:\", len(test_data))\n",
    "\n",
    "# Pour afficher le mapping complet\n",
    "for idx, emotion in enumerate(train_data.classes):\n",
    "    print(f\"Label {idx} → {emotion}\")"
   ]
  },
  {
   "cell_type": "code",
   "execution_count": null,
   "id": "e760fd81",
   "metadata": {},
   "outputs": [],
   "source": [
    "batch_size = 16\n",
    "\n",
    "train_dataloader = DataLoader(\n",
    "    train_data, batch_size=batch_size, shuffle=True, drop_last=True\n",
    ")\n",
    "\n",
    "test_dataloader = DataLoader(\n",
    "    test_data, batch_size=batch_size, shuffle=True, drop_last=True\n",
    ")\n",
    "\n",
    "# - print the number of batches in the training subset\n",
    "num_batches = len(train_dataloader)\n",
    "print(\"Number of batches in the training subset:\", num_batches)\n",
    "\n",
    "# - print the number of batches in the testing subset\n",
    "num_batches = len(test_dataloader)\n",
    "print(\"Number of batches in the testing subset:\", num_batches)"
   ]
  },
  {
   "cell_type": "code",
   "execution_count": null,
   "id": "0596fc0f",
   "metadata": {},
   "outputs": [],
   "source": [
    "# 3. Calcul de mean & std\n",
    "sum_ = 0.0\n",
    "sum_sq_ = 0.0\n",
    "nb_pixels = 0\n",
    "\n",
    "for imgs, _ in test_dataloader:\n",
    "    # imgs shape: (B,1,48,48)\n",
    "    B, C, H, W = imgs.shape\n",
    "    imgs = imgs.view(B, C, -1)  # (B,1,2304)\n",
    "    sum_ += imgs.sum(dim=[0, 2])  # somme des pixels par canal\n",
    "    sum_sq_ += (imgs**2).sum(dim=[0, 2])  # somme des carrés\n",
    "    nb_pixels += B * H * W\n",
    "\n",
    "mean = sum_ / nb_pixels  # tensor([μ])\n",
    "std = torch.sqrt(\n",
    "    sum_sq_ / torch.tensor(nb_pixels, dtype=torch.float32) - mean**2\n",
    ")  # tensor([σ])\n",
    "\n",
    "print(\"Dataset mean:\", mean)  # ex. ≈tensor([0.485])\n",
    "print(\"Dataset std: \", std)  # ex. ≈tensor([0.237])"
   ]
  },
  {
   "cell_type": "code",
   "execution_count": null,
   "id": "04f67ba5",
   "metadata": {},
   "outputs": [],
   "source": [
    "data_transforms = torchvision.transforms.Compose(\n",
    "    [\n",
    "        torchvision.transforms.Grayscale(\n",
    "            num_output_channels=3\n",
    "        ),  # si modèles pré-entraînés ImageNet\n",
    "        torchvision.transforms.Resize((224, 224)),  # ou autre résolution\n",
    "        torchvision.transforms.ToTensor(),\n",
    "        torchvision.transforms.Normalize(mean=mean, std=std),\n",
    "    ]\n",
    ")\n",
    "\n",
    "# Load the FER-2013 dataset\n",
    "train_data = torchvision.datasets.ImageFolder(\n",
    "    data_dir + \"/train\", transform=data_transforms\n",
    ")\n",
    "\n",
    "test_data = torchvision.datasets.ImageFolder(\n",
    "    data_dir + \"/test\", transform=data_transforms\n",
    ")\n",
    "\n",
    "print(\"Classes of the dataset:\", train_data.classes)\n",
    "print(\"Number of training samples:\", len(train_data))\n",
    "print(\"Number of test samples:\", len(test_data))\n",
    "\n",
    "# Pour afficher le mapping complet\n",
    "for idx, emotion in enumerate(train_data.classes):\n",
    "    print(f\"Label {idx} → {emotion}\")"
   ]
  },
  {
   "cell_type": "code",
   "execution_count": null,
   "id": "5fc57624",
   "metadata": {},
   "outputs": [],
   "source": [
    "batch_size = 16\n",
    "\n",
    "train_dataloader = DataLoader(\n",
    "    train_data, batch_size=batch_size, shuffle=True, drop_last=True\n",
    ")\n",
    "\n",
    "test_dataloader = DataLoader(\n",
    "    test_data, batch_size=batch_size, shuffle=True, drop_last=True\n",
    ")\n",
    "\n",
    "# - print the number of batches in the training subset\n",
    "num_batches = len(train_dataloader)\n",
    "print(\"Number of batches in the training subset:\", num_batches)\n",
    "\n",
    "# - print the number of batches in the testing subset\n",
    "num_batches = len(test_dataloader)\n",
    "print(\"Number of batches in the testing subset:\", num_batches)"
   ]
  },
  {
   "cell_type": "code",
   "execution_count": null,
   "id": "ec78ae2d",
   "metadata": {},
   "outputs": [],
   "source": [
    "weights = torchvision.models.VGG11_Weights.IMAGENET1K_V1\n",
    "model = torchvision.models.vgg11(\n",
    "    weights=weights\n",
    ")  # charges les poids ImageNet pré-entraînés\n",
    "\n",
    "# Geler toutes les couches\n",
    "for param in model.parameters():\n",
    "    param.requires_grad = (\n",
    "        False  # figure l’intégralité des poids pour ne pas les recalculer\n",
    "    )\n",
    "\n",
    "# Remplacer la couche de sortie (le dernier module du classifier)\n",
    "num_classes = 7\n",
    "model.classifier[6] = nn.Linear(in_features=4096, out_features=num_classes)\n",
    "\n",
    "# Cette nouvelle couche est dégelée par défaut, car elle vient d'être créée\n",
    "# Mais pour être explicite:\n",
    "for param in model.classifier[6].parameters():\n",
    "    param.requires_grad = True"
   ]
  },
  {
   "cell_type": "code",
   "execution_count": null,
   "id": "6a819cab",
   "metadata": {},
   "outputs": [],
   "source": [
    "num_epochs = 30\n",
    "learning_rate = 0.01\n",
    "loss_fn = nn.CrossEntropyLoss()\n",
    "\n",
    "model_trained, train_losses = train_classifier(\n",
    "    model=model,\n",
    "    train_dataloader=train_dataloader,\n",
    "    batch_size=batch_size,\n",
    "    num_epochs=num_epochs,\n",
    "    loss_fn=loss_fn,\n",
    "    learning_rate=learning_rate,\n",
    "    device=device,\n",
    "    transform_fn=None,\n",
    "    verbose=True,\n",
    ")\n",
    "\n",
    "torch.save(model_trained.state_dict(), \"training/vgg-11_trained.pt\")"
   ]
  },
  {
   "cell_type": "markdown",
   "id": "e9873879",
   "metadata": {},
   "source": [
    "## Testing the model on the test dataset\n"
   ]
  },
  {
   "cell_type": "code",
   "execution_count": null,
   "id": "6e235af1",
   "metadata": {},
   "outputs": [],
   "source": [
    "model_test = copy.deepcopy(model)\n",
    "model_test.load_state_dict(torch.load(\"training/vgg-11_trained.pt\"))\n",
    "\n",
    "# - Apply the evaluation function using the test dataloader\n",
    "test_accuracy = eval_classifier(\n",
    "    model=model_test, eval_dataloader=test_dataloader, device=device\n",
    ")\n",
    "\n",
    "# - Print the test accuracy\n",
    "print(\"Test accuracy: {:.2f}%\".format(test_accuracy))\n",
    "\n",
    "# - Plot the training loss over epochs\n",
    "plt.figure()\n",
    "plt.plot(train_losses)\n",
    "plt.title(\"Training loss over epochs\")\n",
    "plt.xlabel(\"Epoch\")\n",
    "plt.ylabel(\"Loss\")\n",
    "plt.grid()\n",
    "plt.show()"
   ]
  }
 ],
 "metadata": {
  "kernelspec": {
   "display_name": ".venv",
   "language": "python",
   "name": "python3"
  },
  "language_info": {
   "codemirror_mode": {
    "name": "ipython",
    "version": 3
   },
   "file_extension": ".py",
   "mimetype": "text/x-python",
   "name": "python",
   "nbconvert_exporter": "python",
   "pygments_lexer": "ipython3",
   "version": "3.13.2"
  }
 },
 "nbformat": 4,
 "nbformat_minor": 5
}
