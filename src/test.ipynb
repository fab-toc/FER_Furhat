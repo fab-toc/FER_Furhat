{
 "cells": [
  {
   "cell_type": "markdown",
   "id": "a3996346",
   "metadata": {},
   "source": [
    "# FER-2013 Dataset\n"
   ]
  },
  {
   "cell_type": "code",
   "execution_count": null,
   "id": "2e5d7807",
   "metadata": {},
   "outputs": [],
   "source": [
    "import torch\n",
    "import torchvision\n",
    "from torch.utils.data import DataLoader, Subset\n",
    "import torch.nn as nn\n",
    "import matplotlib.pyplot as plt\n",
    "import copy\n",
    "import kagglehub"
   ]
  },
  {
   "cell_type": "code",
   "execution_count": null,
   "id": "63e73acb",
   "metadata": {},
   "outputs": [],
   "source": [
    "# Download FER-2013 latest version\n",
    "data_dir = \"../data/FER-2013\"\n",
    "\n",
    "# Load the FER-2013 dataset\n",
    "train_data = torchvision.datasets.ImageFolder(\n",
    "    data_dir + \"/train\", transform=torchvision.transforms.ToTensor()\n",
    ")\n",
    "\n",
    "test_data = torchvision.datasets.ImageFolder(\n",
    "    data_dir + \"/test\", transform=torchvision.transforms.ToTensor()\n",
    ")\n",
    "\n",
    "print(\"Classes of the dataset:\", train_data.classes)\n",
    "print(\"Number of training samples:\", len(train_data))\n",
    "print(\"Number of test samples:\", len(test_data))"
   ]
  }
 ],
 "metadata": {
  "kernelspec": {
   "display_name": ".venv",
   "language": "python",
   "name": "python3"
  },
  "language_info": {
   "codemirror_mode": {
    "name": "ipython",
    "version": 3
   },
   "file_extension": ".py",
   "mimetype": "text/x-python",
   "name": "python",
   "nbconvert_exporter": "python",
   "pygments_lexer": "ipython3",
   "version": "3.13.2"
  }
 },
 "nbformat": 4,
 "nbformat_minor": 5
}
