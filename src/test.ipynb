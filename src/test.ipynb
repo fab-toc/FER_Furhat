{
 "cells": [
  {
   "cell_type": "markdown",
   "id": "a3996346",
   "metadata": {},
   "source": [
    "# FER-2013 Dataset\n"
   ]
  },
  {
   "cell_type": "code",
   "execution_count": null,
   "id": "2e5d7807",
   "metadata": {},
   "outputs": [],
   "source": []
  }
 ],
 "metadata": {
  "kernelspec": {
   "display_name": ".venv",
   "language": "python",
   "name": "python3"
  },
  "language_info": {
   "name": "python",
   "version": "3.13.2"
  }
 },
 "nbformat": 4,
 "nbformat_minor": 5
}
